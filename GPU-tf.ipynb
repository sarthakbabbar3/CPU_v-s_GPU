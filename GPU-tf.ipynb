{
 "cells": [
  {
   "cell_type": "code",
   "execution_count": 1,
   "metadata": {},
   "outputs": [
    {
     "name": "stdout",
     "output_type": "stream",
     "text": [
      "WARNING:tensorflow:From /home/gpuadmin/Candice/scripts/venv/lib/python3.6/site-packages/tensorflow_core/python/compat/v2_compat.py:65: disable_resource_variables (from tensorflow.python.ops.variable_scope) is deprecated and will be removed in a future version.\n",
      "Instructions for updating:\n",
      "non-resource variables are not supported in the long term\n",
      "Device mapping:\n",
      "/job:localhost/replica:0/task:0/device:XLA_CPU:0 -> device: XLA_CPU device\n",
      "/job:localhost/replica:0/task:0/device:XLA_GPU:0 -> device: XLA_GPU device\n",
      "/job:localhost/replica:0/task:0/device:GPU:0 -> device: 0, name: Quadro GV100, pci bus id: 0000:b3:00.0, compute capability: 7.0\n",
      "\n"
     ]
    }
   ],
   "source": [
    "# Creates a graph.\n",
    "#import tensorflow as tf\n",
    "import tensorflow.compat.v1 as tf\n",
    "tf.disable_v2_behavior()\n",
    "c = []\n",
    "config = tf.ConfigProto(log_device_placement=True)\n",
    "sess = tf.Session(config=config)"
   ]
  },
  {
   "cell_type": "code",
   "execution_count": 2,
   "metadata": {},
   "outputs": [
    {
     "data": {
      "text/plain": [
       "True"
      ]
     },
     "execution_count": 2,
     "metadata": {},
     "output_type": "execute_result"
    }
   ],
   "source": [
    "import tensorflow as tf\n",
    "tf.test.is_gpu_available(\n",
    "    cuda_only=False,\n",
    "    min_cuda_compute_capability=None\n",
    ")\n",
    "tf.compat.v1.test.is_gpu_available()"
   ]
  },
  {
   "cell_type": "code",
   "execution_count": 3,
   "metadata": {},
   "outputs": [
    {
     "name": "stderr",
     "output_type": "stream",
     "text": [
      "Using TensorFlow backend.\n"
     ]
    },
    {
     "data": {
      "text/plain": [
       "['/job:localhost/replica:0/task:0/device:GPU:0']"
      ]
     },
     "execution_count": 3,
     "metadata": {},
     "output_type": "execute_result"
    }
   ],
   "source": [
    "from keras import backend as K\n",
    "K.tensorflow_backend._get_available_gpus()"
   ]
  },
  {
   "cell_type": "code",
   "execution_count": 4,
   "metadata": {},
   "outputs": [
    {
     "name": "stdout",
     "output_type": "stream",
     "text": [
      "Tensor(\"MatMul:0\", shape=(2, 2), dtype=float32, device=/device:XLA_GPU:0)\n"
     ]
    }
   ],
   "source": [
    "d = '/device:XLA_GPU:0'\n",
    "with tf.device(d):\n",
    "    a = tf.constant([1.0, 2.0, 3.0, 4.0, 5.0, 6.0], shape=[2, 3])\n",
    "    b = tf.constant([1.0, 2.0, 3.0, 4.0, 5.0, 6.0], shape=[3, 2])\n",
    "    c.append(tf.matmul(a, b))\n",
    "\n",
    "with tf.device(d):\n",
    "    sum1 = tf.add_n(c)\n",
    "    print(sum1)\n"
   ]
  },
  {
   "cell_type": "code",
   "execution_count": 5,
   "metadata": {},
   "outputs": [
    {
     "name": "stdout",
     "output_type": "stream",
     "text": [
      "427 µs ± 141 µs per loop (mean ± std. dev. of 7 runs, 1000 loops each)\n"
     ]
    }
   ],
   "source": [
    "%%timeit -n 1000\n",
    "sess.run(sum1)"
   ]
  },
  {
   "cell_type": "code",
   "execution_count": 6,
   "metadata": {},
   "outputs": [
    {
     "name": "stdout",
     "output_type": "stream",
     "text": [
      "1.36 ms ± 65.5 µs per loop (mean ± std. dev. of 7 runs, 100 loops each)\n"
     ]
    }
   ],
   "source": [
    "%%timeit -n 100\n",
    "for d in ['/device:CPU:0']:\n",
    "    with tf.device(d):\n",
    "        a = tf.constant([1.0, 2.0, 3.0, 4.0, 5.0, 6.0], shape=[2, 3])\n",
    "        b = tf.constant([1.0, 2.0, 3.0, 4.0, 5.0, 6.0], shape=[3, 2])\n",
    "        c.append(tf.matmul(a, b))"
   ]
  },
  {
   "cell_type": "code",
   "execution_count": 31,
   "metadata": {
    "scrolled": true
   },
   "outputs": [
    {
     "name": "stdout",
     "output_type": "stream",
     "text": [
      "####### Calculating on the /device:XLA_GPU:0 #######\n",
      "Device mapping:\n",
      "/job:localhost/replica:0/task:0/device:XLA_CPU:0 -> device: XLA_CPU device\n",
      "/job:localhost/replica:0/task:0/device:XLA_GPU:0 -> device: XLA_GPU device\n",
      "/job:localhost/replica:0/task:0/device:GPU:0 -> device: 0, name: Quadro GV100, pci bus id: 0000:b3:00.0, compute capability: 7.0\n",
      "\n",
      "[[267.8 260.  249.9 ... 255.8 250.5 257.2]\n",
      " [257.8 261.  250.1 ... 251.1 251.1 254.8]\n",
      " [251.  254.2 248.  ... 247.2 244.2 253.4]\n",
      " ...\n",
      " [248.4 248.4 239.2 ... 245.6 241.8 246.8]\n",
      " [261.2 260.5 258.8 ... 253.1 254.6 260.2]\n",
      " [262.8 255.8 252.6 ... 259.8 257.8 259.5]]\n",
      "####### Calculating on the /device:CPU:0 #######\n",
      "Device mapping:\n",
      "/job:localhost/replica:0/task:0/device:XLA_CPU:0 -> device: XLA_CPU device\n",
      "/job:localhost/replica:0/task:0/device:XLA_GPU:0 -> device: XLA_GPU device\n",
      "/job:localhost/replica:0/task:0/device:GPU:0 -> device: 0, name: Quadro GV100, pci bus id: 0000:b3:00.0, compute capability: 7.0\n",
      "\n",
      "[[244.5 244.1 239.  ... 238.4 237.8 243. ]\n",
      " [256.  251.8 251.8 ... 246.8 249.2 251. ]\n",
      " [256.5 253.8 252.5 ... 251.6 248.4 259. ]\n",
      " ...\n",
      " [247.5 247.6 239.5 ... 247.4 243.5 255.5]\n",
      " [254.  249.9 243.  ... 242.9 246.8 251.9]\n",
      " [256.5 262.  256.5 ... 254.9 251.2 263.2]]\n",
      "####### Calculating on the /device:XLA_GPU:0 #######\n",
      "Device mapping:\n",
      "/job:localhost/replica:0/task:0/device:XLA_CPU:0 -> device: XLA_CPU device\n",
      "/job:localhost/replica:0/task:0/device:XLA_GPU:0 -> device: XLA_GPU device\n",
      "/job:localhost/replica:0/task:0/device:GPU:0 -> device: 0, name: Quadro GV100, pci bus id: 0000:b3:00.0, compute capability: 7.0\n",
      "\n",
      "[[507.5 495.5 496.2 ... 496.2 498.8 511.8]\n",
      " [504.8 498.  499.  ... 493.  506.5 509.5]\n",
      " [512.  500.2 499.5 ... 499.5 505.2 511.5]\n",
      " ...\n",
      " [516.  506.5 505.8 ... 497.5 505.5 510.5]\n",
      " [509.5 502.8 494.2 ... 489.5 483.  505.2]\n",
      " [515.5 526.5 518.5 ... 508.  508.5 516. ]]\n",
      "####### Calculating on the /device:CPU:0 #######\n",
      "Device mapping:\n",
      "/job:localhost/replica:0/task:0/device:XLA_CPU:0 -> device: XLA_CPU device\n",
      "/job:localhost/replica:0/task:0/device:XLA_GPU:0 -> device: XLA_GPU device\n",
      "/job:localhost/replica:0/task:0/device:GPU:0 -> device: 0, name: Quadro GV100, pci bus id: 0000:b3:00.0, compute capability: 7.0\n",
      "\n",
      "[[501.5 477.5 492.5 ... 488.  503.  507.8]\n",
      " [492.  475.  496.5 ... 488.  497.8 500.8]\n",
      " [513.  498.  507.8 ... 505.8 506.8 518. ]\n",
      " ...\n",
      " [500.8 485.2 492.5 ... 496.8 500.8 501.8]\n",
      " [501.  493.5 505.  ... 503.  507.  510.2]\n",
      " [504.2 485.5 498.2 ... 501.  497.5 512.5]]\n",
      "####### Calculating on the /device:XLA_GPU:0 #######\n",
      "Device mapping:\n",
      "/job:localhost/replica:0/task:0/device:XLA_CPU:0 -> device: XLA_CPU device\n",
      "/job:localhost/replica:0/task:0/device:XLA_GPU:0 -> device: XLA_GPU device\n",
      "/job:localhost/replica:0/task:0/device:GPU:0 -> device: 0, name: Quadro GV100, pci bus id: 0000:b3:00.0, compute capability: 7.0\n",
      "\n",
      "[[719.5 740.  741.5 ... 757.  734.5 739.5]\n",
      " [717.5 737.5 732.  ... 740.  726.  726. ]\n",
      " [723.  735.  738.  ... 749.5 731.5 741. ]\n",
      " ...\n",
      " [727.  746.5 747.5 ... 746.5 742.  742.5]\n",
      " [705.5 728.5 729.  ... 736.  720.5 723. ]\n",
      " [716.  737.5 744.  ... 750.5 738.5 738.5]]\n",
      "####### Calculating on the /device:CPU:0 #######\n",
      "Device mapping:\n",
      "/job:localhost/replica:0/task:0/device:XLA_CPU:0 -> device: XLA_CPU device\n",
      "/job:localhost/replica:0/task:0/device:XLA_GPU:0 -> device: XLA_GPU device\n",
      "/job:localhost/replica:0/task:0/device:GPU:0 -> device: 0, name: Quadro GV100, pci bus id: 0000:b3:00.0, compute capability: 7.0\n",
      "\n",
      "[[737.  741.  761.  ... 747.  741.5 754. ]\n",
      " [735.  733.5 751.5 ... 742.5 743.  751.5]\n",
      " [731.  725.5 762.  ... 744.  730.5 745.5]\n",
      " ...\n",
      " [737.  742.5 753.5 ... 746.  751.5 750. ]\n",
      " [750.  758.  768.5 ... 760.  769.  766. ]\n",
      " [745.5 749.5 771.5 ... 757.5 742.  757. ]]\n",
      "####### Calculating on the /device:XLA_GPU:0 #######\n",
      "Device mapping:\n",
      "/job:localhost/replica:0/task:0/device:XLA_CPU:0 -> device: XLA_CPU device\n",
      "/job:localhost/replica:0/task:0/device:XLA_GPU:0 -> device: XLA_GPU device\n",
      "/job:localhost/replica:0/task:0/device:GPU:0 -> device: 0, name: Quadro GV100, pci bus id: 0000:b3:00.0, compute capability: 7.0\n",
      "\n",
      "[[1000.   970.   999.5 ...  995.5 1001.5  980.5]\n",
      " [ 993.   969.5  987.  ...  983.   993.   984.5]\n",
      " [1013.   986.  1011.  ... 1016.  1034.  1022. ]\n",
      " ...\n",
      " [1007.   972.   992.5 ...  999.5  998.   999. ]\n",
      " [1007.5  981.  1008.  ... 1005.5 1015.  1007.5]\n",
      " [ 994.   970.   987.5 ...  988.   996.   994.5]]\n",
      "####### Calculating on the /device:CPU:0 #######\n",
      "Device mapping:\n",
      "/job:localhost/replica:0/task:0/device:XLA_CPU:0 -> device: XLA_CPU device\n",
      "/job:localhost/replica:0/task:0/device:XLA_GPU:0 -> device: XLA_GPU device\n",
      "/job:localhost/replica:0/task:0/device:GPU:0 -> device: 0, name: Quadro GV100, pci bus id: 0000:b3:00.0, compute capability: 7.0\n",
      "\n",
      "[[1014.  1001.  1009.5 ... 1010.5  998.5  996.5]\n",
      " [1004.  1014.  1010.  ... 1013.5  997.5 1007. ]\n",
      " [ 997.   991.  1003.5 ... 1002.   993.  1001.5]\n",
      " ...\n",
      " [ 993.   981.5 1009.  ... 1004.5  986.   992.5]\n",
      " [ 987.5  977.   988.5 ...  976.   967.   975. ]\n",
      " [ 988.5  987.   988.  ...  994.   976.5  994. ]]\n"
     ]
    }
   ],
   "source": [
    "from __future__ import print_function\n",
    "import tensorflow.compat.v1 as tf\n",
    "tf.disable_v2_behavior()\n",
    "import matplotlib\n",
    "import matplotlib.pyplot as plt\n",
    "import time\n",
    "\n",
    "def get_times():\n",
    "\n",
    "    device_times = {\n",
    "        \"/device:XLA_GPU:0\":[],\n",
    "        \"/device:CPU:0\":[]\n",
    "    }\n",
    "    \n",
    "    matrix_sizes = range(1000,5000,1000)\n",
    "\n",
    "    for size in matrix_sizes:\n",
    "        for device_name in device_times.keys():\n",
    "\n",
    "            print(\"####### Calculating on the \" + device_name + \" #######\")\n",
    "\n",
    "            shape = (size,size)\n",
    "            data_type = tf.float16\n",
    "            with tf.device(device_name):\n",
    "                r1 = tf.random.uniform(shape=shape, minval=0, maxval=1, dtype=data_type)\n",
    "                r2 = tf.random.uniform(shape=shape, minval=0, maxval=1, dtype=data_type)\n",
    "                dot_operation = tf.matmul(r2, r1)\n",
    "\n",
    "\n",
    "            with tf.Session(config=tf.ConfigProto(log_device_placement=True)) as session:\n",
    "                    start_time = time.time()\n",
    "                    result = session.run(dot_operation)\n",
    "                    time_taken = time.time() - start_time\n",
    "                    print(result)\n",
    "                    device_times[device_name].append(time_taken)\n",
    "\n",
    "        \n",
    "    return device_times, matrix_sizes\n",
    "\n",
    "\n",
    "device_times, matrix_sizes =get_times()   \n",
    "gpu_times = device_times[\"/device:XLA_GPU:0\"]\n",
    "cpu_times = device_times[\"/device:CPU:0\"]\n"
   ]
  },
  {
   "cell_type": "code",
   "execution_count": 30,
   "metadata": {},
   "outputs": [
    {
     "data": {
      "image/png": "[encoded data removed]",
      "text/plain": [
       "<Figure size 432x288 with 1 Axes>"
      ]
     },
     "metadata": {
      "needs_background": "light"
     },
     "output_type": "display_data"
    }
   ],
   "source": [
    "fig = plt.figure()\n",
    "ax = plt.subplot(111)\n",
    "ax.plot(matrix_sizes[:len(gpu_times)], gpu_times, label='GPU')\n",
    "ax.plot(matrix_sizes[:len(cpu_times)], cpu_times, label='CPU')\n",
    "plt.title('CPU vs GPU - Performance Test on Matrix Multiplication ')\n",
    "plt.xlabel(xlabel=\"Matrix Size\")\n",
    "plt.ylabel(ylabel=\"Time taken\")\n",
    "ax.legend(loc='upper center', bbox_to_anchor=(0.5, 1.00), shadow=True, ncol=2)\n",
    "plt.show()"
   ]
  },
  {
   "cell_type": "code",
   "execution_count": 32,
   "metadata": {},
   "outputs": [
    {
     "data": {
      "image/png": "[encoded data removed]",
      "text/plain": [
       "<Figure size 432x288 with 1 Axes>"
      ]
     },
     "metadata": {
      "needs_background": "light"
     },
     "output_type": "display_data"
    }
   ],
   "source": [
    "fig = plt.figure()\n",
    "ax = plt.subplot(111)\n",
    "ax.plot(matrix_sizes[:len(gpu_times)], gpu_times, label='GPU')\n",
    "ax.plot(matrix_sizes[:len(cpu_times)], cpu_times, label='CPU')\n",
    "plt.title('CPU vs GPU - Performance Test on Matrix Multiplication ')\n",
    "plt.xlabel(xlabel=\"Matrix Size\")\n",
    "plt.ylabel(ylabel=\"Time taken\")\n",
    "ax.legend(loc='upper center', bbox_to_anchor=(0.5, 1.00), shadow=True, ncol=2)\n",
    "plt.show()"
   ]
  },
  {
   "cell_type": "code",
   "execution_count": null,
   "metadata": {},
   "outputs": [],
   "source": []
  }
 ],
 "metadata": {
  "kernelspec": {
   "display_name": "Python 3",
   "language": "python",
   "name": "python3"
  },
  "language_info": {
   "codemirror_mode": {
    "name": "ipython",
    "version": 3
   },
   "file_extension": ".py",
   "mimetype": "text/x-python",
   "name": "python",
   "nbconvert_exporter": "python",
   "pygments_lexer": "ipython3",
   "version": "3.6.8"
  }
 },
 "nbformat": 4,
 "nbformat_minor": 2
}
